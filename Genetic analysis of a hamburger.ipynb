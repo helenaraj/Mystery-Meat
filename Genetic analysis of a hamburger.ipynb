{
 "cells": [
  {
   "cell_type": "code",
   "execution_count": 1,
   "metadata": {
    "collapsed": false
   },
   "outputs": [],
   "source": [
    "import numpy\n",
    "\n",
    "f1 = open(\"Rusa timorensis_mitochondrion.txt\")\n",
    "rusa = f1.read()\n",
    "f2 = open(\"Mystery_mitochondrion.txt\")\n",
    "mystery = f2.read()\n",
    "f3 = open(\"Manis tetradactyla_mitochondrion.txt\")\n",
    "manis = f3.read()\n",
    "f4 = open(\"Mordacia mordax_mitochondrion.txt\")\n",
    "mordacia = f4.read()\n",
    "f5 = open(\"Moschus berezovskii_mitochondrion.txt\")\n",
    "moschus = f5.read()\n",
    "f6 = open(\"Phrynosoma blainvillii_mitochondrion.txt\")\n",
    "phrysnosoma = f6.read()\n",
    "f7 = open(\"Prolemur simus_mitochondrion.txt\")\n",
    "prolemur = f7.read()\n",
    "f8 = open(\"Pseudacris regilla_mitochondrion.txt\")\n",
    "pseudacris = f8.read()\n",
    "f9 = open(\"Prionailurus planiceps_mitochondrion.txt\")\n",
    "prionailurus = f9.read()\n",
    "f10 = open (\"Sciurus vulgaris_mitochondrion.txt\")\n",
    "sciurus_vulgaris = f10.read()\n",
    "f11 = open(\"Sorex sinalis_mitochondrion.txt\")\n",
    "sorex_sinalis = f11.read()\n",
    "f12 = open(\"Sus scrofa_mitochondrion.txt\")\n",
    "sus_scrofa = f12.read()\n",
    "g1 = open(\"Axis porcinus_mitochondrion.txt\")\n",
    "g2 = open(\"Bos indicus_mitochondrion.txt\")\n",
    "g3 = open(\"Bos mutus_mitochondrion.txt\")\n",
    "g4 = open(\"Bos taurus_mitochondrion.txt\")\n",
    "g5 = open(\"Bubalus bubalis_mitochondrion.txt\")\n",
    "g6 = open(\"Capra hircus_mitochondrion.txt\")\n",
    "g7 = open(\"Delphinapterus leucas_mitochondrion.txt\")\n",
    "g8 = open(\"Dicerorhinus sumatrensis_mitochondrion.txt\")\n",
    "g9 = open(\"Dorosoma cepedianum_mitochondrion.txt\")\n",
    "g10 = open(\"Elseya branderhorsti_mitochondrion.txt\")\n",
    "g11 = open(\"Equus asinus somalicus_mitochondrion.txt\")\n",
    "g12 = open(\"Gadopsis marmoratus_mitochondrion.txt\")\n",
    "g13 = open(\"Liparis ochotensis_mitochondrion.txt\")\n",
    "axis_porcinus=g1.read()\n",
    "bos_indicus=g2.read()\n",
    "bos_mutus=g3.read()\n",
    "bos_taurus=g4.read()\n",
    "bubalus_bubalis=g5.read()\n",
    "capra_hirucus=g6.read()\n",
    "delphinapterus_leucas=g7.read()\n",
    "dicerorhinus_sumatr=g8.read()\n",
    "dorosoma_cepedianum=g9.read()\n",
    "elseya_banderhorsti=g10.read()\n",
    "equus_asinus=g11.read()\n",
    "gadopsis_marmoratus=g12.read()\n",
    "liparis_ochotensis=g13.read()\n",
    "\n",
    "\n",
    "\n",
    "Percent_different_list=[]\n",
    "\n",
    "def percentdiff (seq1,seq2):\n",
    "    c=-1\n",
    "    diff=0\n",
    "    for char in seq1:\n",
    "        c+=1\n",
    "        if char== seq2[c]:\n",
    "            continue\n",
    "        else:\n",
    "            diff +=1\n",
    "    print(\"Percent different:\",(diff*100)/len(seq1))\n",
    "    return Percent_different_list.append((diff*100)/len(seq1))\n",
    "\n",
    "def ranking(list):\n",
    "    print(list.sort())\n",
    " \n",
    "    \n",
    "            \n",
    "\n"
   ]
  },
  {
   "cell_type": "code",
   "execution_count": 2,
   "metadata": {
    "collapsed": false
   },
   "outputs": [
    {
     "name": "stdout",
     "output_type": "stream",
     "text": [
      "Percent different: 68.95238095238095\n",
      "Percent different: 0.47619047619047616\n",
      "Percent different: 73.42857142857143\n",
      "Percent different: 0.0\n",
      "Percent different: 73.42857142857143\n",
      "Percent different: 72.85714285714286\n",
      "Percent different: 71.23809523809524\n",
      "Percent different: 71.71428571428571\n",
      "Percent different: 69.9047619047619\n",
      "Percent different: 67.71428571428571\n",
      "Percent different: 69.71428571428571\n",
      "Percent different: 73.80952380952381\n",
      "Percent different: 72.85714285714286\n",
      "Percent different: 64.66666666666667\n",
      "Percent different: 72.95238095238095\n",
      "Percent different: 70.0\n",
      "Percent different: 71.42857142857143\n",
      "Percent different: 73.33333333333333\n",
      "Percent different: 73.52380952380952\n",
      "Percent different: 61.523809523809526\n",
      "Percent different: 72.85714285714286\n",
      "Percent different: 70.0952380952381\n",
      "Percent different: 72.66666666666667\n"
     ]
    }
   ],
   "source": [
    "percentdiff(axis_porcinus, mystery)\n",
    "percentdiff(bos_indicus, mystery)\n",
    "percentdiff(bos_mutus, mystery)\n",
    "percentdiff(bos_taurus, mystery)\n",
    "percentdiff(bubalus_bubalis, mystery)\n",
    "percentdiff(capra_hirucus, mystery)\n",
    "percentdiff(delphinapterus_leucas, mystery)\n",
    "percentdiff(dicerorhinus_sumatr, mystery)\n",
    "percentdiff(dorosoma_cepedianum, mystery)\n",
    "percentdiff(elseya_banderhorsti, mystery)\n",
    "percentdiff(equus_asinus, mystery)\n",
    "percentdiff(gadopsis_marmoratus, mystery)\n",
    "percentdiff(liparis_ochotensis, mystery)\n",
    "percentdiff(manis, mystery)\n",
    "percentdiff(mordacia, mystery)\n",
    "percentdiff(moschus, mystery)\n",
    "percentdiff(phrysnosoma, mystery)\n",
    "percentdiff(prolemur, mystery)\n",
    "percentdiff(prionailurus, mystery)\n",
    "percentdiff(rusa, mystery)\n",
    "percentdiff(sciurus_vulgaris, mystery)\n",
    "percentdiff(sorex_sinalis, mystery)\n",
    "percentdiff(sus_scrofa, mystery)\n",
    "    \n",
    "   "
   ]
  },
  {
   "cell_type": "code",
   "execution_count": 5,
   "metadata": {
    "collapsed": false
   },
   "outputs": [
    {
     "name": "stdout",
     "output_type": "stream",
     "text": [
      "None\n"
     ]
    }
   ],
   "source": [
    "print (Percent_different_list.sort())\n"
   ]
  },
  {
   "cell_type": "code",
   "execution_count": null,
   "metadata": {
    "collapsed": true
   },
   "outputs": [],
   "source": []
  },
  {
   "cell_type": "code",
   "execution_count": null,
   "metadata": {
    "collapsed": true
   },
   "outputs": [],
   "source": []
  }
 ],
 "metadata": {
  "kernelspec": {
   "display_name": "Python 3",
   "language": "python",
   "name": "python3"
  },
  "language_info": {
   "codemirror_mode": {
    "name": "ipython",
    "version": 3
   },
   "file_extension": ".py",
   "mimetype": "text/x-python",
   "name": "python",
   "nbconvert_exporter": "python",
   "pygments_lexer": "ipython3",
   "version": "3.5.2"
  }
 },
 "nbformat": 4,
 "nbformat_minor": 2
}
